{
  "nbformat": 4,
  "nbformat_minor": 0,
  "metadata": {
    "colab": {
      "name": "Week2.ipynb",
      "provenance": [],
      "collapsed_sections": []
    },
    "kernelspec": {
      "name": "python3",
      "display_name": "Python 3"
    }
  },
  "cells": [
    {
      "cell_type": "markdown",
      "metadata": {
        "id": "jF9c7mzVBmXO"
      },
      "source": [
        "#Seminar Neurale Netwerken Week 1\n",
        "\n",
        "Deze week leer je over:\n",
        "\n",
        "*   Het verschil tussen regressie en classificatie\n",
        "*   De verschillende activatie functies\n",
        "*   Normalisatie\n",
        "*   Class imbalance\n",
        "*   Accuracy, MAE etc.\n",
        "*   Het voorbereiden van data\n",
        "\n",
        "De slides kun je [hier](https://docs.google.com/presentation/d/1NglNkuK9wKJwEkUGjwfPz6jtvpmeCF1PhfnVcJKthCA/edit?usp=sharing) vinden.\n"
      ]
    },
    {
      "cell_type": "markdown",
      "metadata": {
        "id": "_xfNTXvTCyT9"
      },
      "source": [
        "# Regressie/Classificatie"
      ]
    },
    {
      "cell_type": "markdown",
      "metadata": {
        "id": "pP4q_N8-DFt_"
      },
      "source": [
        "Vorige week ben je bezig geweest met regressie, je hebt steeds continue variabelen voorspeld.\n",
        "Nu gaan we kijken naar Classificatie, Hier voorspel je discrete klasse zoals 'hond' of 'kat'. Het grootste verschil ten opzichte van vorige week is dat 'kat' niet groter (of kleiner) is dan 'hond' (maar \\$600000 is wel groter dan \\$30000)"
      ]
    },
    {
      "cell_type": "markdown",
      "metadata": {
        "id": "s-cZFBJtrXtE"
      },
      "source": [
        "## Is de lengte van een persoon continue of discreet? Onderbouw je antwoord.\n"
      ]
    },
    {
      "cell_type": "markdown",
      "metadata": {
        "id": "CNQVLujbrX1A"
      },
      "source": [
        ""
      ]
    },
    {
      "cell_type": "markdown",
      "metadata": {
        "id": "Y1vq2nrjrXyF"
      },
      "source": [
        "## Is de kleur van een stoplicht continue of discreet? Onderbouw je antwoord.\n"
      ]
    },
    {
      "cell_type": "markdown",
      "metadata": {
        "id": "OaZwUZl8rXpy"
      },
      "source": [
        ""
      ]
    },
    {
      "cell_type": "markdown",
      "metadata": {
        "id": "w7PxzX0Pu7g_"
      },
      "source": [
        "## Is de achternaam van een persoon continue of discreet? Onderbouw je antwoord.\n"
      ]
    },
    {
      "cell_type": "markdown",
      "metadata": {
        "id": "rMIMBKgNu7n1"
      },
      "source": [
        ""
      ]
    },
    {
      "cell_type": "markdown",
      "metadata": {
        "id": "jIY3bClHrnjK"
      },
      "source": [
        "## Is het aantal slaapkamers in een huis continue of discreet? Onderbouw je antwoord."
      ]
    },
    {
      "cell_type": "markdown",
      "metadata": {
        "id": "V-XQfxX4rnub"
      },
      "source": [
        ""
      ]
    },
    {
      "cell_type": "markdown",
      "metadata": {
        "id": "gWBU7qtL9zHA"
      },
      "source": [
        "\n",
        "\n",
        "---\n",
        "\n",
        "\n"
      ]
    },
    {
      "cell_type": "markdown",
      "metadata": {
        "id": "_cvmMvP5scJa"
      },
      "source": [
        "Een neuraal netwerk kan worden ingesteld om op één van deze twee typen data te werken. Vaak is het wel mogelijk om continue data discreet te maken en andersom, omdat je de data vaak op andere manieren kan representeren. Zo kun je bijvoorbeeld de leeftijd van een persoon uitdrukken in jaren, dagen of seconden, maar je kunt het ook uitdrukken een een leeftijdsgroep (0-9,10-19,20-29,...). Je zou kunnen zeggen dat jaren, dagen of seconden ook al discreet is, en alleen maar continue zou zijn als het uitgedrukt is in een kommagetal."
      ]
    },
    {
      "cell_type": "markdown",
      "metadata": {
        "id": "qeijdjXIHAkD"
      },
      "source": [
        "Deze keer maken we zelf een dataset bestaande uit twee klassen: 'blauw' en 'oranje', met twee input waardes 'x' en 'y'.\n",
        "We maken een aantal datapunten aan volgens de volgende methode\n",
        "\n",
        "* kies $x$ en $y$ willekeurig tussen -1 en 1\n",
        "* als $x*y > 0$ dan is de klasse gelijk aan 1 (blauw), anders is het gelijk aan 0 (oranje)\n",
        "\n",
        "We moeten de klasse aangeven door middel van class labels (in dit geval **0** en **1**) zodat sklearn de data kan gebruiken.\n"
      ]
    },
    {
      "cell_type": "code",
      "metadata": {
        "id": "UrUw-N9oDGB-"
      },
      "source": [
        "import random\n",
        "import pandas as pd\n",
        "\n",
        "np_data = []\n",
        "\n",
        "for i in range(1000):\n",
        "    x = random.uniform(-1, 1)\n",
        "    y = random.uniform(-1, 1)\n",
        "    if x*y > 0:\n",
        "        klasse  = 1\n",
        "    else:\n",
        "        klasse  = 0\n",
        "\n",
        "    np_data.append([x,y,klasse])\n",
        "\n",
        "dataset = pd.DataFrame(np_data)\n",
        "dataset.head(10)\n",
        "    "
      ],
      "execution_count": null,
      "outputs": []
    },
    {
      "cell_type": "markdown",
      "metadata": {
        "id": "wDjExZpmRW0Z"
      },
      "source": [
        "## Is de data in kolom 0 continue of discreet? Onderbouw je antwoord."
      ]
    },
    {
      "cell_type": "markdown",
      "metadata": {
        "id": "fTq7Xa4ERW7q"
      },
      "source": [
        ""
      ]
    },
    {
      "cell_type": "markdown",
      "metadata": {
        "id": "keCxTVdnxKfD"
      },
      "source": [
        "## Is de data in kolom 2 continue of discreet? Onderbouw je antwoord.\n"
      ]
    },
    {
      "cell_type": "markdown",
      "metadata": {
        "id": "AjAS1j_kxKol"
      },
      "source": [
        ""
      ]
    },
    {
      "cell_type": "markdown",
      "metadata": {
        "id": "kTmhasfqLAsD"
      },
      "source": [
        "Split de dataset m.b.v. [train_test_split](https://scikit-learn.org/stable/modules/generated/sklearn.model_selection.train_test_split.html)"
      ]
    },
    {
      "cell_type": "code",
      "metadata": {
        "id": "WoUygahbK_8V"
      },
      "source": [
        "from sklearn.model_selection import train_test_split\n",
        "\n",
        "input_data = dataset[[0,1]] # selecteer kolom 0 en kolom 1 als de input data\n",
        "labels = dataset[[2]] # selecteer kolom 2 als de label data\n",
        "\n",
        "#Jouw code hier\n",
        "# input_data_train, input_data_test, labels_train, labels_test = ...\n"
      ],
      "execution_count": null,
      "outputs": []
    },
    {
      "cell_type": "markdown",
      "metadata": {
        "id": "65CqPkvyJZL9"
      },
      "source": [
        "Om een netwerk te maken voor regression, gebruikten we vorige week\n",
        "\n",
        "\n",
        "```\n",
        "hidden_layer_sizes = [20,20,5]\n",
        "network = MLPRegressor(hidden_layer_sizes=hidden_layer_sizes)\n",
        "network.fit(input_data_train, labels_train)\n",
        "```\n",
        "\n",
        "Deze keer gebruiken we [MLPClassifier](https://scikit-learn.org/stable/modules/generated/sklearn.neural_network.MLPClassifier.html#sklearn.neural_network.MLPClassifier). \n",
        "\n",
        "Belangrijk: Geef het netwerk twee hidden layers met ieder maar twee neuronen.\n",
        "\n"
      ]
    },
    {
      "cell_type": "code",
      "metadata": {
        "id": "JwslkFXkIylk"
      },
      "source": [
        "from sklearn.neural_network import MLPClassifier\n",
        "\n",
        "#Jouw code hier\n",
        "\n"
      ],
      "execution_count": null,
      "outputs": []
    },
    {
      "cell_type": "markdown",
      "metadata": {
        "id": "ZPlrCHe9MEUq"
      },
      "source": [
        "#### Nu kunnen we niet de MAE gebruiken, waarom niet?"
      ]
    },
    {
      "cell_type": "markdown",
      "metadata": {
        "id": "_lXHY5e7MLbC"
      },
      "source": [
        ""
      ]
    },
    {
      "cell_type": "markdown",
      "metadata": {
        "id": "4bOEHzeWMM5E"
      },
      "source": [
        "In plaats daarvan gebruiken we accuracy: hoe veel procent van de tijd voorspellen we de klasse juist.\n",
        "\n",
        "\n",
        "Bijvoorbeeld:\n",
        "``` \n",
        "we voorspellen : [oranje,oranje,oranje,blauw,oranje]\n",
        "de labels zijn: [blauw,oranje,oranje,blauw,oranje]\n",
        "we hebben 4 van de 5 labels goed voorspelt, onze accuracy is dus 4/5 = 80%\n",
        "```\n",
        "\n",
        "\n",
        "Schrijf nu zelf code om accuracy te berekenen.\n",
        "\n",
        "Vorige week gebruiktte we deze code voor MAE, Je kunt dit als inspiratie gebruiken.\n",
        "\n"
      ]
    },
    {
      "cell_type": "code",
      "metadata": {
        "id": "fo6jJw8Lygeb"
      },
      "source": [
        "def bereken_MAE(pred_labels,true_labels):\n",
        "    all_errors = []\n",
        "    for pred_label,true_label in zip(pred_labels,true_labels):\n",
        "        #in elke iteratie van de loop krijgen we 1 predicted label in pred_label en 1 bijbehorend true label in true_label\n",
        "        absolute_error = abs(pred_label-true_label)\n",
        "        all_errors.append(absolute_error)\n",
        "        \n",
        "    MAE = sum(all_errors)/len(all_errors) \n",
        "    return MAE"
      ],
      "execution_count": null,
      "outputs": []
    },
    {
      "cell_type": "code",
      "metadata": {
        "id": "K0Bll29KL2Gl"
      },
      "source": [
        "# hint: de input voor de bereken accuracy functie heeft de volgende vorm:\n",
        "# pred_labels = [0,0,1,0,1,1,1,1]\n",
        "# true_labels = [1,0,1,1,0,0,1,1]\n",
        "\n",
        "def bereken_accuracy(pred_labels,true_labels):\n",
        "    #typ je code hier\n",
        "    #...\n",
        "\n"
      ],
      "execution_count": null,
      "outputs": []
    },
    {
      "cell_type": "markdown",
      "metadata": {
        "id": "fXODj6Ap9PV5"
      },
      "source": [
        "Hieronder testen we of jouw functie correct werkt. Krijg je een foutmelding? Dan klopt de bereken_accuracy functie hierboven nog niet helemaal."
      ]
    },
    {
      "cell_type": "code",
      "metadata": {
        "id": "N-z-Y2bP8s1W"
      },
      "source": [
        "l1 = [1,2,3,4,5,6,7,8]\n",
        "l2 = [1,2,3,4,4,4,4,4]\n",
        "l3 = [1,2,9,9,9,9,9,9]\n",
        "l4 = [9,9,9,9,9,9,9,9]\n",
        "\n",
        "assert bereken_accuracy(l1,l2) == 0.5\n",
        "assert bereken_accuracy(l1,l3) == 0.25\n",
        "assert bereken_accuracy(l1,l4) == 0.0\n",
        "assert bereken_accuracy(l3,l4) == 0.75"
      ],
      "execution_count": null,
      "outputs": []
    },
    {
      "cell_type": "code",
      "metadata": {
        "id": "kPdA6MnP9pKL"
      },
      "source": [
        "\n",
        "pred_labels = network.predict(input_data_test)\n",
        "true_labels = labels_test[[2]].values.flatten()\n",
        "\n",
        "acc = bereken_accuracy(pred_labels,true_labels)\n",
        "print('Accuracy: {}'.format(acc))"
      ],
      "execution_count": null,
      "outputs": []
    },
    {
      "cell_type": "markdown",
      "metadata": {
        "id": "LE0vnD7XPtQA"
      },
      "source": [
        "Kijk naar [deze](https://playground.tensorflow.org/#activation=relu&batchSize=3&dataset=xor&regDataset=reg-gauss&learningRate=0.1&regularizationRate=0&noise=0&networkShape=2,2&seed=0.66813&showTestData=false&discretize=true&percTrainData=20&x=true&y=true&xTimesY=false&xSquared=false&ySquared=false&cosX=false&sinX=false&cosY=false&sinY=false&collectStats=false&problem=classification&initZero=false&hideText=false&showTestData_hide=false&batchSize_hide=true&dataset_hide=true&regularization_hide=true&learningRate_hide=false&regularizationRate_hide=true&noise_hide=true&discretize_hide=true&percTrainData_hide=false&problem_hide=true) site.\n",
        "\n",
        "Hier kun je dezelfde dataset zien als die we net gemaakt hebben. Linksboven staat een knop waarmee je dat netwerk kan laten trainen. Ook zijn er knoppen waarmee je meer neuronen en lagen kan toevoegen.\n",
        "\n",
        "Tijdens het trainen, zie je rechts welk gebied welke predictie heeft. De bolletjes geeft aan welke voorbeelden in de dataset zitten\n",
        "\n",
        " Experimenteer met verschillende aantallen hidden layers en neuronen en beantwoord de volgende vragen. \n",
        " \n",
        " (Verander niet welke features ($x_{12}$ $x_{22}$ $sin(x_1)$ etc.) je gebruikt.)\n",
        "\n",
        "\n",
        "\n"
      ]
    },
    {
      "cell_type": "markdown",
      "metadata": {
        "id": "qxBfvwLJ2Udm"
      },
      "source": [
        "## Wat gebeurt er als je `hidden_layer_sizes` gelijk zijn aan [2,2]?\n"
      ]
    },
    {
      "cell_type": "markdown",
      "metadata": {
        "id": "cJFZMQgw2Um_"
      },
      "source": [
        ""
      ]
    },
    {
      "cell_type": "markdown",
      "metadata": {
        "id": "mB0aM_U-46C0"
      },
      "source": [
        "## Probeer minstens twee andere 'hidden_layer_sizes', schrijf voor elk op wat de behaalde accuracy is."
      ]
    },
    {
      "cell_type": "markdown",
      "metadata": {
        "id": "bjfvB4Fm46JU"
      },
      "source": [
        ""
      ]
    },
    {
      "cell_type": "markdown",
      "metadata": {
        "id": "qitX2H9A2UuZ"
      },
      "source": [
        "## Wat is het laagste aantal neuronen waarmee het netwerk data 'goed' weet te classificeren"
      ]
    },
    {
      "cell_type": "markdown",
      "metadata": {
        "id": "1jgDEPDjy5xi"
      },
      "source": [
        ""
      ]
    },
    {
      "cell_type": "markdown",
      "metadata": {
        "id": "DtwN3HEeu5OE"
      },
      "source": [
        "# Wanneer vind jij dat het netwerk het 'goed' doet, welke accuracy moet het dan minstens hebben?"
      ]
    },
    {
      "cell_type": "markdown",
      "metadata": {
        "id": "mhBeccR8u5WT"
      },
      "source": [
        ""
      ]
    },
    {
      "cell_type": "markdown",
      "metadata": {
        "id": "-SEYlfX82x3F"
      },
      "source": [
        "## Verander nu je `hidden_layer_sizes` in je code naar hetgeen je gevonden hebt in vorige vraag. Wat is nu de accuracy? Is dat goed?"
      ]
    },
    {
      "cell_type": "markdown",
      "metadata": {
        "id": "ZBmz_3982x_F"
      },
      "source": [
        ""
      ]
    },
    {
      "cell_type": "markdown",
      "metadata": {
        "id": "9_OrH33_6fly"
      },
      "source": [
        "## Laat het netwerk grotere stappen maken door de `learning_rate_init=0.0001` toe te voegen aan de [MLPClassifier](https://scikit-learn.org/stable/modules/generated/sklearn.neural_network.MLPClassifier.html). Wat merk je op als de learning_rate een groter getal is? "
      ]
    },
    {
      "cell_type": "markdown",
      "metadata": {
        "id": "Zx3__T1r6fwn"
      },
      "source": [
        ""
      ]
    },
    {
      "cell_type": "markdown",
      "metadata": {
        "id": "QzDUrvbWuA8n"
      },
      "source": [
        "## Kijk op de playground website welke learning rates goed werken. Werkt dat in onze code ook goed?"
      ]
    },
    {
      "cell_type": "markdown",
      "metadata": {
        "id": "-MesnwRWuBEw"
      },
      "source": [
        ""
      ]
    },
    {
      "cell_type": "markdown",
      "metadata": {
        "id": "aqf0gmdm9rOG"
      },
      "source": [
        "\n",
        "\n",
        "---\n",
        "\n"
      ]
    },
    {
      "cell_type": "markdown",
      "metadata": {
        "id": "QAtvQj15RcUl"
      },
      "source": [
        "# Wijn Classificatie\n"
      ]
    },
    {
      "cell_type": "markdown",
      "metadata": {
        "id": "wlesYl7mTTcA"
      },
      "source": [
        "Vorige week hadden we de kwaliteit van rode wijn voorspeld, nu gaan we voorspellen of iets rode of witte wijn is.\n"
      ]
    },
    {
      "cell_type": "code",
      "metadata": {
        "id": "A1oekrurNetw"
      },
      "source": [
        "import pandas as pd\n",
        "import numpy as np \n",
        "from google.colab import files\n",
        "\n",
        "print('upload winequality-red.csv')\n",
        "files.upload()\n",
        "\n",
        "print('upload winequality-white.csv')\n",
        "files.upload()\n",
        "\n",
        "\n",
        "def create_dataset(total_wines,red_white_ratio):\n",
        "    red_wines = pd.read_csv('winequality-red.csv',sep=';')\n",
        "    white_wines = pd.read_csv('winequality-white.csv',sep=';')\n",
        "\n",
        "    #noise toevoegen\n",
        "    noise_mean, noise_std = 1, 0.5\n",
        "    red_wines = red_wines * np.random.normal(noise_mean, noise_std, [len(red_wines),12]) \n",
        "    white_wines = white_wines * np.random.normal(noise_mean, noise_std, [len(white_wines),12]) \n",
        "\n",
        "\n",
        "    red_wines['type'] = 'red'\n",
        "    white_wines['type'] = 'white'\n",
        "\n",
        "    num_red = int(total_wines * red_white_ratio)\n",
        "    num_white = total_wines - num_red\n",
        "\n",
        "    dataset = pd.concat([red_wines[:num_red],white_wines[:num_white]])\n",
        "    dataset = shuffle(dataset)\n",
        "\n",
        "    return dataset\n"
      ],
      "execution_count": null,
      "outputs": []
    },
    {
      "cell_type": "markdown",
      "metadata": {
        "id": "ZFeKauXf9Mdu"
      },
      "source": [
        "## We hebben hierboven ook 'noise' toegevoegd aan de dataset. Wat is 'noise'? (zoek op)"
      ]
    },
    {
      "cell_type": "markdown",
      "metadata": {
        "id": "dyPcDqN69Mk4"
      },
      "source": [
        ""
      ]
    },
    {
      "cell_type": "markdown",
      "metadata": {
        "id": "pD-vjkX99VTD"
      },
      "source": [
        "Normaal wil je noise juist niet in je dataset, want dan wordt het moeilijker om de data goed te voorspellen. Voor het doel van deze opdracht moeten we deze dataset juist iets moeilijker maken. Omdat dit anders veel te makkelijk is voor een neuraal netwerk. Dit doen we alleen zodat we de resultaten van deze opdracht iets duidelijker te herkennen zijn. (in plaats van dat elk model 99% accuracy behaald)"
      ]
    },
    {
      "cell_type": "markdown",
      "metadata": {
        "id": "TmPWJvGhv4Xt"
      },
      "source": [
        "We labellen de rode wijnen met `type = 'red' ` en witte wijnen met  `type = 'white' ` Daarna voegen we de twee datasets samen via de pd.concat(...) en husselen we de wijnen door elkaar. Het is belangrijk je data zo te 'husselen', we zullen dit straks laten zien."
      ]
    },
    {
      "cell_type": "code",
      "metadata": {
        "id": "XL7zfK3-5Jaw"
      },
      "source": [
        "dataset = create_dataset(total_wines=1000,\n",
        "                         red_white_ratio=0.5)\n",
        "dataset.head()"
      ],
      "execution_count": null,
      "outputs": []
    },
    {
      "cell_type": "markdown",
      "metadata": {
        "id": "FoZjQE1QLwUf"
      },
      "source": [
        "## Hoe veel witte wijnen zijn er in de dataset aanwezig en hoe veel rode wijnen?"
      ]
    },
    {
      "cell_type": "code",
      "metadata": {
        "id": "K-ePLV9RLsnx"
      },
      "source": [
        "#typ hier je code \n",
        "# ...\n",
        "print(len(red_wines),len(white_wines)) #ANSWER***"
      ],
      "execution_count": null,
      "outputs": []
    },
    {
      "cell_type": "markdown",
      "metadata": {
        "id": "7Mq1OysTMWvr"
      },
      "source": [
        "## Welke invloed heeft dit wellicht op een neuraal netwerk wanneer we het hierop zullen trainen?"
      ]
    },
    {
      "cell_type": "markdown",
      "metadata": {
        "id": "1GZyasVNMfP9"
      },
      "source": [
        ""
      ]
    },
    {
      "cell_type": "markdown",
      "metadata": {
        "id": "xCiaY5-FN-p0"
      },
      "source": [
        "Nu maken we weer histogrammen voor bepaalde eigenschappen. We plotten nu voor rode en witte wijn apart de histogram, om een beeld te krijgen van hoe de twee dats van elkaar verschillen."
      ]
    },
    {
      "cell_type": "code",
      "metadata": {
        "id": "wVjlx1AKN_8_"
      },
      "source": [
        "import matplotlib.pyplot as plt\n",
        "def maak_histogram(dataset,kolomnaam):\n",
        "    #bepaal de minimum en maximum waardes uit de dataset\n",
        "    #we gebruiken maar 1500 wijnen per soort om de histogram in balans te houden\n",
        "    xrange = [dataset[kolomnaam][:1500].min(),dataset[kolomnaam][:1500].max()]\n",
        "\n",
        "    #plot de histogrammen\n",
        "    white_wines[kolomnaam][:1500].hist(grid=False, bins=25, range=xrange, alpha = 0.8)\n",
        "    red_wines[kolomnaam][:1500].hist(  grid=False, bins=25, range=xrange, alpha = 0.8)\n",
        "    plt.title(kolomnaam)\n",
        "    plt.show()\n",
        "\n",
        "maak_histogram(dataset,'pH')"
      ],
      "execution_count": null,
      "outputs": []
    },
    {
      "cell_type": "markdown",
      "metadata": {
        "id": "2_1OfVjYAqE7"
      },
      "source": [
        "## Maak minstens drie histogrammen van de data in andere kolommen."
      ]
    },
    {
      "cell_type": "markdown",
      "metadata": {
        "id": "kpn_Z3dQxG7j"
      },
      "source": [
        "Je kunt de exacte kolom namen vinden in de `.columns` eigenschap van een (pandas) dataset `dataset.columns`"
      ]
    },
    {
      "cell_type": "code",
      "metadata": {
        "id": "48Ii6KTiwubr"
      },
      "source": [
        ""
      ],
      "execution_count": null,
      "outputs": []
    },
    {
      "cell_type": "code",
      "metadata": {
        "id": "1tvXzy3tA4GE"
      },
      "source": [
        ""
      ],
      "execution_count": null,
      "outputs": []
    },
    {
      "cell_type": "code",
      "metadata": {
        "id": "gl5UhE1FOcxv"
      },
      "source": [
        ""
      ],
      "execution_count": null,
      "outputs": []
    },
    {
      "cell_type": "markdown",
      "metadata": {
        "id": "ivHvDxFvMx45"
      },
      "source": [
        "Train en test een netwerk op deze data.\n",
        "\n",
        "Vergeet de normalisatie en train/test split niet.\n",
        "Je kunt natuurlijk gebruik maken van de functies `bereken_MAE(pred_labels,true_labels)` en/of `bereken_accuracy(pred_labels,true_labels)` \n",
        "Gebruik een test_size van `0.5`.\n",
        "\n",
        "\n",
        "\n"
      ]
    },
    {
      "cell_type": "code",
      "metadata": {
        "id": "UzWKltunN8Bi"
      },
      "source": [
        "def prepare_dataset(dataset):\n",
        "    ...\n",
        "\n",
        "    #normalisatie\n",
        "    ...\n",
        "\n",
        "    #train test split\n",
        "    ...\n",
        "    ...\n",
        "    ...\n",
        "\n",
        "input_data_train, input_data_test, labels_train, labels_test = prepare_dataset(dataset)"
      ],
      "execution_count": null,
      "outputs": []
    },
    {
      "cell_type": "code",
      "metadata": {
        "id": "5dKHrbC8N8KZ"
      },
      "source": [
        "\n",
        "def train_and_evaluate(input_data_train, input_data_test, labels_train, labels_test)\n",
        "    ...\n",
        "    ...\n",
        "    ...\n",
        "\n",
        "\n",
        "    ...\n",
        "    ...\n",
        "    acc = bereken_accuracy(pred_labels,true_labels)\n",
        "    print('accuracy: {}'.format(acc))\n",
        "\n",
        "    return network,acc\n",
        "\n",
        "\n",
        "\n",
        "\n",
        "network,acc = train_and_evaluate(input_data_train, input_data_test, labels_train, labels_test)\n"
      ],
      "execution_count": null,
      "outputs": []
    },
    {
      "cell_type": "markdown",
      "metadata": {
        "id": "dJJHCFqBxrDs"
      },
      "source": [
        "## Wat is een confusion matrix? (zoek op)"
      ]
    },
    {
      "cell_type": "markdown",
      "metadata": {
        "id": "h0Mr_S7QxvfE"
      },
      "source": [
        ""
      ]
    },
    {
      "cell_type": "markdown",
      "metadata": {
        "id": "JkguMce_xx_k"
      },
      "source": [
        "## Hoe ziet een confusion matrix eruit wanneer de predicties 100% accuraat zijn?\n"
      ]
    },
    {
      "cell_type": "markdown",
      "metadata": {
        "id": "8XV7XymGxyHq"
      },
      "source": [
        ""
      ]
    },
    {
      "cell_type": "markdown",
      "metadata": {
        "id": "WQ9lULxX8q4P"
      },
      "source": [
        "We gebruiken de `plot_confusion_matrix` functie uit [sklearn](https://scikit-learn.org/stable/modules/generated/sklearn.metrics.plot_confusion_matrix.html) om de confusion matrix te plotten"
      ]
    },
    {
      "cell_type": "code",
      "metadata": {
        "id": "X4P9dKkxN8V0"
      },
      "source": [
        "from sklearn.metrics import plot_confusion_matrix\n",
        "plot_confusion_matrix(network, input_data_test, labels_test,\n",
        "                                display_labels=['wit','rood'],\n",
        "                                cmap=plt.cm.Blues, values_format = '.0f')\n"
      ],
      "execution_count": null,
      "outputs": []
    },
    {
      "cell_type": "markdown",
      "metadata": {
        "id": "3rEay0ZtRyJ-"
      },
      "source": [
        "## Class imbalance"
      ]
    },
    {
      "cell_type": "markdown",
      "metadata": {
        "id": "VL_Ql90SBu4g"
      },
      "source": [
        "Neurale netwerken werken het best wanneer de input data 'gebalanceerd' is. Dit betekend dat er per klasse evenveel data beschikbaar is. Bijvoorbeeld 500 witte en 500 rode wijnen. Je gaat nu experimenteren wat er gebeurt als we de data ongebalanceerd aanleveren."
      ]
    },
    {
      "cell_type": "markdown",
      "metadata": {
        "id": "cpvExtCAzv7g"
      },
      "source": [
        "Nu koppelen we de functies die je hierboven hebt gemaakt aan elkaar.\n",
        "\n",
        "De enige input is nu nog:\n",
        " * Het totaal aantal rode wijnen\n",
        " * De ratio rode tot witte wijnen (0.8 zou dan betekenen dat 80% van de wijnen rood zijn)\n",
        "\n",
        "Deze functie maakt dan een dataset aan zoals hierboven, daarna wordt het genormaliseerd, gesplitst, getrained en geëvalueerd eveneens zoals je hierboven hebt gedaan.\n",
        "Ook wordt de accuracy en confusion matrix geplot"
      ]
    },
    {
      "cell_type": "code",
      "metadata": {
        "id": "9WQp9fEIR5CO"
      },
      "source": [
        "def test_config(total_wines,red_white_ratio): \n",
        "    dataset = create_dataset(total_wines, red_white_ratio)    \n",
        "\n",
        "    input_data_train, input_data_test, labels_train, labels_test = prepare_dataset(dataset)\n",
        "\n",
        "    network,acc = train_and_evaluate(input_data_train, input_data_test, labels_train, labels_test)\n",
        "\n",
        "    print(acc)\n",
        "    conf_matrix = plot_confusion_matrix(network, input_data_test, labels_test,\n",
        "                                    display_labels=['wit','rood'],\n",
        "                                    cmap=plt.cm.Blues, values_format = '.0f')\n",
        "    return acc,conf_matrix\n",
        "\n",
        "\n",
        "acc, conf_matrix = test_config(  total_wines = 1000,\n",
        "                                 red_white_ratio = 0.5)   "
      ],
      "execution_count": null,
      "outputs": []
    },
    {
      "cell_type": "markdown",
      "metadata": {
        "id": "fPGsepUU0ZKD"
      },
      "source": [
        "Probeer nu minimaal de volgende configuraties uit:\n",
        "\n",
        "\n",
        "\n",
        "\n"
      ]
    },
    {
      "cell_type": "markdown",
      "metadata": {
        "id": "fB-Sdp0tEfpM"
      },
      "source": [
        "\n",
        "<tr> <th scope=\"col\">total_wines</th> <th scope=\"col\">red_white_ratio</th><th scope=\"col\">accuracy</th><th scope=\"col\">Wat zie je in de confusion matrix?</th></tr>\n",
        "<tr> <td>2000</td> <td> 0.5 </td><td> ... </td><td> ... </td></tr>\n",
        "<tr> <td>1000</td> <td> 0.5 </td><td> ... </td><td> ... </td></tr>\n",
        "<tr> <td> 100 </td> <td> 0.5 </td><td> ... </td><td> ... </td></tr>\n",
        "<tr> <td> 50 </td> <td> 0.5 </td><td> ... </td><td> ... </td></tr>\n",
        "<tr> <td>1000</td> <td> 0.25 </td><td> ... </td><td> ... </td></tr>\n",
        "<tr> <td> 100 </td> <td> 0.25 </td><td> ... </td><td> ... </td></tr>\n",
        "<tr> <td>1000</td> <td> 0.1 </td><td> ... </td><td> ... </td></tr>\n",
        "<tr> <td> 100 </td> <td> 0.1 </td><td> ... </td><td> ... </td></tr>\n",
        "<tr> <td> ... </td> <td> ... </td><td> ... </td><td> ... </td></tr>\n",
        "<tr> <td> ... </td> <td> ... </td><td> ... </td><td> ... </td></tr>\n"
      ]
    },
    {
      "cell_type": "code",
      "metadata": {
        "id": "A4b1aTHFF_IT"
      },
      "source": [
        "\n",
        "acc, conf_matrix = test_config(  total_wines = 1000,\n",
        "                                 red_white_ratio = 0.25)   "
      ],
      "execution_count": null,
      "outputs": []
    },
    {
      "cell_type": "markdown",
      "metadata": {
        "id": "vfV6xuGlGMPv"
      },
      "source": [
        "## Werkt het netwerk goed in de gevallen `red_white_ratio = 0.1`?"
      ]
    },
    {
      "cell_type": "markdown",
      "metadata": {
        "id": "azCtigdtGnX3"
      },
      "source": [
        ""
      ]
    },
    {
      "cell_type": "markdown",
      "metadata": {
        "id": "OLcC2Hlkthym"
      },
      "source": [
        "\n",
        "\n",
        "---\n",
        "\n"
      ]
    },
    {
      "cell_type": "markdown",
      "metadata": {
        "id": "Uw_OLY2GtfBW"
      },
      "source": [
        "# Korte pauze"
      ]
    },
    {
      "cell_type": "code",
      "metadata": {
        "id": "I0e0X2ZztkJA"
      },
      "source": [
        "from IPython.display import HTML\n",
        "\n",
        "def youtube_video(code):\n",
        "    return HTML(f\"<iframe width='1280' height='720'  src='https://www.youtube.com/embed/{code}' frameborder='0' allowfullscreen></iframe>\")\n"
      ],
      "execution_count": null,
      "outputs": []
    },
    {
      "cell_type": "code",
      "metadata": {
        "id": "55zyGs30tkbs"
      },
      "source": [
        "youtube_video('GdTBqBnqhaQ')"
      ],
      "execution_count": null,
      "outputs": []
    },
    {
      "cell_type": "code",
      "metadata": {
        "id": "NBao5sAix2vt"
      },
      "source": [
        "youtube_video('YRhxdVk_sIs')"
      ],
      "execution_count": null,
      "outputs": []
    },
    {
      "cell_type": "markdown",
      "metadata": {
        "id": "jrieB0ApHhJU"
      },
      "source": [
        "\n",
        "\n",
        "---\n",
        "\n"
      ]
    },
    {
      "cell_type": "markdown",
      "metadata": {
        "id": "v-K-3qe9RhAE"
      },
      "source": [
        "# Mnist Digits"
      ]
    },
    {
      "cell_type": "markdown",
      "metadata": {
        "id": "gAJ77H_uxVuD"
      },
      "source": [
        "Mnist is een dataset van afbeeldingen van 28x28 pixels zwart en wit. De afbeeldingen bevatten handgeschreven cijfers van 0 tot 9. Het doel is om deze afbeeldingen te analyseren en te predicten welk cijfer er staat."
      ]
    },
    {
      "cell_type": "markdown",
      "metadata": {
        "id": "J4eopchkR6qW"
      },
      "source": [
        "Data preprocessing\n"
      ]
    },
    {
      "cell_type": "code",
      "metadata": {
        "id": "zEv90ln6RjNp"
      },
      "source": [
        "\n",
        "from tensorflow.keras.datasets import mnist\n",
        "import matplotlib.pyplot as plt\n",
        "\n",
        "(train_data, train_labels), (test_data, test_labels) = mnist.load_data()\n",
        "train_data = train_data.reshape((60000,784))\n",
        "test_data = test_data.reshape((10000,784))"
      ],
      "execution_count": null,
      "outputs": []
    },
    {
      "cell_type": "markdown",
      "metadata": {
        "id": "_wCcGdtJuAhT"
      },
      "source": [
        "De data is al gesplitst in een train en test set. We bekijken een aantal afbeeldingen uit de dataset:"
      ]
    },
    {
      "cell_type": "code",
      "metadata": {
        "id": "WFNeyoXzuLo7"
      },
      "source": [
        "def show_digit(idx,network = None):\n",
        "    print(train_data[idx].shape)\n",
        "    img = train_data[idx].reshape((28,28))\n",
        "    lbl = train_labels[idx]\n",
        "\n",
        "\n",
        "    plt.imshow(img,cmap='gray')\n",
        "    if network != None:\n",
        "        pred = network.predict(img.reshape(1,784))[0]\n",
        "        plt.title('label: {}, Prediction: {}'.format(lbl,pred))\n",
        "    else:\n",
        "        plt.title('label: {}'.format(lbl))\n",
        "    plt.show()\n",
        "\n",
        "for i in range(3):\n",
        "    show_digit(i)\n"
      ],
      "execution_count": null,
      "outputs": []
    },
    {
      "cell_type": "markdown",
      "metadata": {
        "id": "axIKfj521C6w"
      },
      "source": [
        "## Is de data genormaliseerd? Hoe kun je dat controleren?"
      ]
    },
    {
      "cell_type": "markdown",
      "metadata": {
        "id": "d_Hwzp1F1Xdx"
      },
      "source": [
        ""
      ]
    },
    {
      "cell_type": "markdown",
      "metadata": {
        "id": "AUD0y3Og1YXn"
      },
      "source": [
        "## Controleer of de data genormaliseerd is.\n"
      ]
    },
    {
      "cell_type": "code",
      "metadata": {
        "id": "3vNc7d7E1Xvw"
      },
      "source": [
        ""
      ],
      "execution_count": null,
      "outputs": []
    },
    {
      "cell_type": "markdown",
      "metadata": {
        "id": "-YdOZn2f1soi"
      },
      "source": [
        "## Normaliseer de data als dat nodig is.\n",
        "\n"
      ]
    },
    {
      "cell_type": "code",
      "metadata": {
        "id": "v3j80Nqd1sEA"
      },
      "source": [
        "\n",
        "(train_data, train_labels), (test_data, test_labels) = mnist.load_data()\n",
        "train_data = train_data.reshape((60000,784))\n",
        "test_data = test_data.reshape((10000,784))\n",
        "#normaliseer hier:\n"
      ],
      "execution_count": null,
      "outputs": []
    },
    {
      "cell_type": "markdown",
      "metadata": {
        "id": "p0Ig_D6_1yTV"
      },
      "source": [
        "## Train en test een netwerk op de 10000 digits\n",
        "\n",
        "Omdat dit veel digits zijn, zal je ongeveer 30 seconden moeten wachten.\n",
        "In de praktijk is het niet gek wanneer het netwerk 24 uur moet trainen. Voor sommig onderzoek (met name [natural language processing](https://en.wikipedia.org/wiki/Natural_language_processing) ) kan het nog verder oplopen. Een extreem geval is [GPT-3](https://lambdalabs.com/blog/demystifying-gpt-3/) wat 355 GPU jaar heeft getrained. Dat wil zeggen dat het aantal GPU keer de hoeveelheid trainingtijd gelijk is aan 355 jaar. Dit heeft (naar schatting) bijna 5 miljoen euro gekost! Het trainen van neurale netwerken wordt gebruikelijk op GPUs (videokaarten) uitgevoerd, dat komt omdat deze goed zijn in matrix rekenen. Normaal gebruiken 3d videogames deze functionaliteit veel voor rendering en [ray-tracing](https://en.wikipedia.org/wiki/Ray_tracing_(graphics)). Tegenwoordig zijn er ook hardware kaarten die speciaal ontworpen zijn voor neurale netwerken."
      ]
    },
    {
      "cell_type": "code",
      "metadata": {
        "id": "y9nXpr7cRxTV"
      },
      "source": [
        "from sklearn.neural_network import MLPClassifier\n",
        "\n",
        "\n",
        "\n",
        "print('Accuracy: {}'.format(acc))\n"
      ],
      "execution_count": null,
      "outputs": []
    },
    {
      "cell_type": "code",
      "metadata": {
        "id": "QLMA5a1uxz0S"
      },
      "source": [
        "\n",
        "for i in range(5):\n",
        "    show_digit(i,network)"
      ],
      "execution_count": null,
      "outputs": []
    },
    {
      "cell_type": "markdown",
      "metadata": {
        "id": "hEazdyGV4Eyi"
      },
      "source": [
        "## Hoe groot is het verschil in accuracy als je wel normaliseert t.o.v. je niet normaliseert?"
      ]
    },
    {
      "cell_type": "markdown",
      "metadata": {
        "id": "pTBnq9jE4Scd"
      },
      "source": [
        ""
      ]
    },
    {
      "cell_type": "markdown",
      "metadata": {
        "id": "BipJ5-Hc16Jk"
      },
      "source": [
        "Met de volgende code kun je een beter inzicht krijgen in welke fouten je netwerk maakt. "
      ]
    },
    {
      "cell_type": "code",
      "metadata": {
        "id": "-vY5YHjgcOo3"
      },
      "source": [
        "from sklearn.metrics import plot_confusion_matrix\n",
        "from pylab import rcParams\n",
        "rcParams['figure.figsize'] = 10, 8\n",
        "disp = plot_confusion_matrix(   network, test_data, test_labels,\n",
        "                                cmap=plt.cm.Blues,\n",
        "                                values_format = 'g')\n",
        "\n"
      ],
      "execution_count": null,
      "outputs": []
    },
    {
      "cell_type": "markdown",
      "metadata": {
        "id": "m2sskcJg2l_e"
      },
      "source": [
        "## Welke digits haalt het netwerk het meesst door elkaar?\n"
      ]
    },
    {
      "cell_type": "markdown",
      "metadata": {
        "id": "WtPg6ZcV3DlP"
      },
      "source": [
        ""
      ]
    },
    {
      "cell_type": "markdown",
      "metadata": {
        "id": "wFgUYhpZ_DO_"
      },
      "source": [
        "## Leg uit waarom het netwerk juist met die twee digits moeite heeft."
      ]
    },
    {
      "cell_type": "markdown",
      "metadata": {
        "id": "mNmnJpWM_DUv"
      },
      "source": [
        ""
      ]
    },
    {
      "cell_type": "markdown",
      "metadata": {
        "id": "gNixhg0a_ovy"
      },
      "source": [
        "# Overfitten\n",
        "\n",
        "We gaan nu kijken of we overfitten kunnen herkennen"
      ]
    },
    {
      "cell_type": "code",
      "metadata": {
        "id": "3yzdv9Zx_oHO"
      },
      "source": [
        "hidden_layer_sizes = [20,20,5]\n",
        "network = MLPClassifier(hidden_layer_sizes=hidden_layer_sizes,\n",
        "                       max_iter=1,  #run maar 1 epoch per keer dat we network.fit aanroepen\n",
        "                       warm_start=True #ga verder met de gewichten van het netwerk uit de vorige network.fit (Als dit False was, werden de gewichten elke epoch weggegooit)\n",
        "                       )\n",
        "\n",
        "\n",
        "train_accs = []\n",
        "test_accs = []\n",
        "\n",
        "\n",
        "\n",
        "num_data = 1000\n",
        "epochs = 250\n",
        "\n",
        "for epoch_num in range(epochs):\n",
        "    network.fit(train_data[:num_data], train_labels[:num_data])\n",
        "    \n",
        "    #Bereken de MAE over de training data\n",
        "    pred_labels = network.predict(train_data[:num_data])\n",
        "    true_labels = train_labels[:num_data]\n",
        "    train_acc = bereken_accuracy(pred_labels,true_labels)\n",
        "    train_accs.append(train_acc)\n",
        "\n",
        "    #Bereken de MAE over de test data\n",
        "    pred_labels = network.predict(test_data[:1000])\n",
        "    true_labels = test_labels[:1000]\n",
        "    test_acc = bereken_accuracy(pred_labels,true_labels)\n",
        "    test_accs.append(test_acc)\n",
        "\n",
        "\n",
        "#plot een aantal predictions en de MAE over de epochs \n",
        "\n",
        "plt.plot(train_accs,label='Train acc')\n",
        "plt.plot(test_accs,label='Test acc')\n",
        "plt.xlabel('Epoch')\n",
        "plt.ylabel('Accuracy')\n",
        "plt.ylim(0,1)\n",
        "plt.legend()\n",
        "plt.show()\n"
      ],
      "execution_count": null,
      "outputs": []
    },
    {
      "cell_type": "markdown",
      "metadata": {
        "id": "_TI7eqDsKaI8"
      },
      "source": [
        "Experimenteer met de hoeveelheid trainingsdata door `\n",
        "num_data = ... ` te veranderen, noteer of je overfitting herkent of niet."
      ]
    },
    {
      "cell_type": "markdown",
      "metadata": {
        "id": "XPTk8jeFKi5W"
      },
      "source": [
        "\n",
        "\n",
        "<tr> <th scope=\"col\">#trainingsdata</th> <th scope=\"col\">overfitting? Zo ja, vanaf welke epoch?</th></tr>\n",
        "<tr> <td>2000</td> <td> ... </td> </tr>\n",
        "<tr> <td>1000</td> <td> ... </td> </tr>\n",
        "<tr> <td>100</td> <td> ... </td> </tr>\n",
        "<tr> <td>50</td> <td> ... </td> </tr>\n",
        "<tr> <td> ... </td> <td> ... </td> </tr>\n",
        "<tr> <td> ... </td> <td> ... </td> </tr>\n",
        "<tr> <td> ... </td> <td> ... </td> </tr>\n",
        "\n"
      ]
    },
    {
      "cell_type": "markdown",
      "metadata": {
        "id": "iyZDo6QNzksY"
      },
      "source": [
        "Nu gaan we kijken hoe de accuracy verandert naarmate we meer/minder trainingdata gebruiken. (Je kan de convergence warnings negeren)"
      ]
    },
    {
      "cell_type": "code",
      "metadata": {
        "id": "2pU8j6eL_3ZD"
      },
      "source": [
        "\n",
        "\n",
        "\n",
        "train_accs = []\n",
        "test_accs = []\n",
        "\n",
        "\n",
        "nums_data= [50,100,200,300,400,500,600,700,800,900,1000,1250,1500,1750,2000]\n",
        "for num_data in nums_data:\n",
        "    hidden_layer_sizes = [20,20,5]\n",
        "    epochs = 100\n",
        "\n",
        "    network = MLPClassifier(hidden_layer_sizes=hidden_layer_sizes,\n",
        "                        max_iter=epochs,  #run maar 1 epoch per keer dat we network.fit aanroepen\n",
        "                        warm_start=True #ga verder met de gewichten van het netwerk uit de vorige network.fit (Als dit False was, werden de gewichten elke epoch weggegooit)\n",
        "                        )\n",
        "\n",
        "\n",
        "    network.fit(train_data[:num_data], train_labels[:num_data])\n",
        "        \n",
        "    #Bereken de MAE over de training data\n",
        "    pred_labels = network.predict(train_data[:num_data])\n",
        "    true_labels = train_labels[:num_data]\n",
        "    train_acc = bereken_accuracy(pred_labels,true_labels)\n",
        "\n",
        "    #Bereken de MAE over de test data\n",
        "    pred_labels = network.predict(test_data[:1000])\n",
        "    true_labels = test_labels[:1000]\n",
        "    test_acc = bereken_accuracy(pred_labels,true_labels)\n",
        "\n",
        "    train_accs.append(train_acc)\n",
        "    test_accs.append(test_acc)\n",
        "\n",
        "#plot een aantal predictions en de MAE over de epochs \n",
        "print(test_accs)\n",
        "plt.scatter(nums_data,train_accs,label='Train acc')\n",
        "plt.scatter(nums_data,test_accs,label='Test acc')\n",
        "plt.xlabel('#trianingdata')\n",
        "plt.ylabel('Accuracy')\n",
        "#plt.ylim(0,1)\n",
        "plt.legend()\n",
        "plt.show()\n"
      ],
      "execution_count": null,
      "outputs": []
    },
    {
      "cell_type": "markdown",
      "metadata": {
        "id": "8tS2ZIS-QZ95"
      },
      "source": [
        "Je ziet hierboven hoe de test accuracy verbetert naarmate je meer training data toevoegd"
      ]
    },
    {
      "cell_type": "markdown",
      "metadata": {
        "id": "AhzdLwuiyR0E"
      },
      "source": [
        "## Gegeven de netwerk architectuur en de op te lossen taak: Hoeveel trainingsdata is genoeg? "
      ]
    },
    {
      "cell_type": "markdown",
      "metadata": {
        "id": "gdLv3bGnyR4m"
      },
      "source": [
        ""
      ]
    },
    {
      "cell_type": "markdown",
      "metadata": {
        "id": "9I04LKRd-Z8i"
      },
      "source": [
        "\n",
        "\n",
        "---\n",
        "\n"
      ]
    },
    {
      "cell_type": "markdown",
      "metadata": {
        "id": "II3P9KHHRRAh"
      },
      "source": [
        "Als je wilt, kun je in Paint, Photoshop etc. zelf een cijfer maken.\n",
        "\n",
        "*   Open een afbeelding met zwarte achtergrond van 28x28 pixels. ![gebruik bijvoorbeeld deze afbeelding](https://puc.science.ru.nl/seminar_neurale_netwerken/week2/black.png)\n",
        "*   Teken in het wit een digit. ![5](https://puc.science.ru.nl/seminar_neurale_netwerken/week2/5.png) ![6](https://puc.science.ru.nl/seminar_neurale_netwerken/week2/6.png) ![7](https://puc.science.ru.nl/seminar_neurale_netwerken/week2/7.png)\n",
        "*   Sla het bestand op als .png\n",
        "*   upload de afbeelding hieronder\n",
        "\n",
        "\n",
        "\n",
        "\n"
      ]
    },
    {
      "cell_type": "code",
      "metadata": {
        "id": "D5-8mVWIRTdV"
      },
      "source": [
        "from google.colab import files\n",
        "name = files.upload()\n",
        "name = list(name.keys())[0]"
      ],
      "execution_count": null,
      "outputs": []
    },
    {
      "cell_type": "code",
      "metadata": {
        "id": "npoJB70RTiSa"
      },
      "source": [
        "import imageio\n",
        "import numpy as np\n",
        "im = imageio.imread(name)[:,:,0] #Get one (colour) channel from the image\n",
        "im  = (im  - im.mean())  / (im.max() - im.min() ) #normalise\n",
        "plt.imshow(im,cmap='gray') # show image\n",
        "plt.show()\n"
      ],
      "execution_count": null,
      "outputs": []
    },
    {
      "cell_type": "code",
      "metadata": {
        "id": "wBfxkpCzUABc"
      },
      "source": [
        "pred = network.predict(im.reshape(1,784))[0]\n",
        "proba = network.predict_proba(im.reshape(1,784)).reshape((10,))\n",
        "\n",
        "plt.bar(np.arange(10), height= proba)\n",
        "plt.xticks(np.arange(10))\n",
        "plt.show()\n",
        "print('The network predicted: {} with a confidence of {:.0f}%'.format(pred,proba[pred]*100))"
      ],
      "execution_count": null,
      "outputs": []
    },
    {
      "cell_type": "markdown",
      "metadata": {
        "id": "0UAq3CpAZoNc"
      },
      "source": [
        "## Werkt het netwerk goed op jouw digits?"
      ]
    },
    {
      "cell_type": "markdown",
      "metadata": {
        "id": "7SNwk8AaZtx-"
      },
      "source": [
        ""
      ]
    },
    {
      "cell_type": "markdown",
      "metadata": {
        "id": "798TjSh6Zt-3"
      },
      "source": [
        "Als het niet goed werkt kun je twee dingen doen.\n",
        "\n",
        "1.   Het netwerk op meer data laten trainen\n",
        "2.   Probeer de brush-size van je pen/kwast in paint aan te passen zodat het vergelijkbaar is met de afbeeldingen in de dataset\n",
        "\n"
      ]
    },
    {
      "cell_type": "markdown",
      "metadata": {
        "id": "Pd56kvNWVz46"
      },
      "source": [
        "# Convolutional neural networks"
      ]
    },
    {
      "cell_type": "markdown",
      "metadata": {
        "id": "hfEVlYw5QpNF"
      },
      "source": [
        "Een standaard neuraal netwerk is in principe niet geschikt voor afbeeldingen. Het gebruikt namelijk geen 'spatial relationships' (ruimtelijke relaties) uit de afbeelding. Twee pixel die naast elkaar staan, hebben geen speciale betekenis in het netwerk ten op zichte van twee pixels die ver van elkaar staan.\n",
        "\n",
        "Als je aan het begin van deze opdracht kijkt, zie je data we de data hebben gereshaped naar (60000,784) Dit betekent dat we 60000 objecten hebben van 784 waardes lang (784 = 28x28 pixels in de afbeelding). De informatie over de `x` en `y` positie van elke pixelwaarde en wat de waardes van de aangrenzende pixels worden niet meegenomen in deze data. Dit is een beperking van een standaard neural netwerk.\n",
        "\n",
        "\n"
      ]
    },
    {
      "cell_type": "markdown",
      "metadata": {
        "id": "M9e8bCcmWd-F"
      },
      "source": [
        "Er is ook een type netwerk wat dit wel heeft namelijk een Convolutional Neural Network(CNN). Dit type netwerk zit niet ingebouwd in de library sklearn dat we tot nu toe hebben gebruikt. We kunnen het wel vinden in de profesionelere libraries. In die libraries is veel meer mogelijk met neurale netwerken. Het werken met deze libraries een stuk complexer. Voorbeelden van zulke libraries zijn Tensorflow/Keras of pytorch."
      ]
    },
    {
      "cell_type": "markdown",
      "metadata": {
        "id": "cHidSiJJ0aom"
      },
      "source": [
        "\n",
        "In [deze](https://medium.com/analytics-vidhya/cnn-convolutional-neural-network-8d0a292b4498) [links](https://medium.com/@RaghavPrabhu/understanding-of-convolutional-neural-network-cnn-deep-learning-99760835f148) kun je meer te weten komen over CNN's. Standaard neurale netwerken worden ook wel MultiLayer Perceptrons (MLP) genoemd."
      ]
    },
    {
      "cell_type": "markdown",
      "metadata": {
        "id": "f6uUmaV21MBS"
      },
      "source": [
        "## Waardoor komt het dat een CNN gebruik kan maken van spatial relationships?"
      ]
    },
    {
      "cell_type": "markdown",
      "metadata": {
        "id": "5hpAWjqI1MHq"
      },
      "source": [
        ""
      ]
    },
    {
      "cell_type": "markdown",
      "metadata": {
        "id": "ctjkSbPE1dmG"
      },
      "source": [
        "## Wat is een convolutie?"
      ]
    },
    {
      "cell_type": "markdown",
      "metadata": {
        "id": "DLx3kSEh1dqG"
      },
      "source": [
        ""
      ]
    },
    {
      "cell_type": "markdown",
      "metadata": {
        "id": "XOK29uoH1dtc"
      },
      "source": [
        "## Wat is een kernel?"
      ]
    },
    {
      "cell_type": "markdown",
      "metadata": {
        "id": "gdthG8PA1dxF"
      },
      "source": [
        ""
      ]
    },
    {
      "cell_type": "markdown",
      "metadata": {
        "id": "MJoEJpBN1_jE"
      },
      "source": [
        "## Wat is een fully-connected layer"
      ]
    },
    {
      "cell_type": "markdown",
      "metadata": {
        "id": "1QQBJW7U1_nA"
      },
      "source": [
        ""
      ]
    },
    {
      "cell_type": "markdown",
      "metadata": {
        "id": "1MRYHNgjWxxi"
      },
      "source": [
        "Wij maken voor jou een CNN aan in tensorflow, waarmee je aan de slag kan.\n",
        "\n",
        "Eerst laden we de data weer in zoals hiervoor."
      ]
    },
    {
      "cell_type": "code",
      "metadata": {
        "id": "-etHgQ5aV4wu"
      },
      "source": [
        "import tensorflow as tf\n",
        "mnist = tf.keras.datasets.mnist\n",
        "\n",
        "(x_train, y_train), (x_test, y_test) = mnist.load_data()\n",
        "x_train, x_test = x_train / 255.0, x_test / 255.0\n",
        "x_train = x_train.reshape(60000,28,28,1)\n",
        "x_test = x_test.reshape(10000,28,28,1)"
      ],
      "execution_count": null,
      "outputs": []
    },
    {
      "cell_type": "markdown",
      "metadata": {
        "id": "D2ChFKgAna3q"
      },
      "source": [
        "Hieronder maken we een CNN aan. We moeten elke laag individueel aangeven. Nu hebben we ook verschillende type lagen. Een convolutie laag 'Conv2d', een laag die de afbeelding halveert 'MaxPool2D', een laag die de afbeelding omzet naar een lijst 'Flatten' en de laag die we kennen uit sklearn 'Dense' (de fully-conected laag)\n",
        "\n",
        "Als een afbeelding door het netwerk heen gaat, wordt die steeds iets kleiner. Hoe groot de afbeelding op elke laag is, staat in commentaar naast elke laag."
      ]
    },
    {
      "cell_type": "code",
      "metadata": {
        "id": "gydfexPkkxJE"
      },
      "source": [
        "from tensorflow.keras.layers import Conv2D,MaxPool2D,Flatten,Dense\n",
        "#create model\n",
        "def create_model():\n",
        "    model = tf.keras.models.Sequential()#add model layers\n",
        "    model.add(Conv2D(8, kernel_size=3, activation='relu' , input_shape=(28,28,1))) #28x28 -> 27x27\n",
        "    model.add(Conv2D(16, kernel_size=3, activation='relu')) #27x27 -> 26x26\n",
        "    model.add(MaxPool2D()) # 26x26 -> 13x13\n",
        "    model.add(Conv2D(32, kernel_size = 3, activation='relu'))  #13x13->12x12\n",
        "    model.add(MaxPool2D()) # 12x12 -> 6x6 \n",
        "    model.add(Flatten()) # 6x6 -> 36\n",
        "    model.add(Dense(10, activation='softmax' )) # 36 -> 10\n",
        "\n",
        "    loss_fn = tf.keras.losses.SparseCategoricalCrossentropy()\n",
        "    model.compile(optimizer='adam',\n",
        "                loss=loss_fn,\n",
        "                metrics=['accuracy'])\n",
        "\n",
        "    return model"
      ],
      "execution_count": null,
      "outputs": []
    },
    {
      "cell_type": "markdown",
      "metadata": {
        "id": "av-yMv7PzbHv"
      },
      "source": [
        "We maken hierboven ook een cost functie aan. (dit wordt ook wel een error of loss function genoemd) Cross entropy is de loss function die je bij een softmax activatie (dus classificatie) gebruikt.\n",
        "\n",
        "Ook maken we een optimizer aan. Deze gebruik de afgeleides die we hebben berekend om de gewichten aan te passen."
      ]
    },
    {
      "cell_type": "code",
      "metadata": {
        "id": "wwwMvKCgRHRQ"
      },
      "source": [
        "\n",
        "num_data = 2000\n",
        "model = create_model()\n",
        "model.fit(x_train[:num_data], y_train[:num_data], epochs=5)\n"
      ],
      "execution_count": null,
      "outputs": []
    },
    {
      "cell_type": "code",
      "metadata": {
        "id": "tILnAW7QRrxI"
      },
      "source": [
        "model.evaluate(x_test,  y_test)"
      ],
      "execution_count": null,
      "outputs": []
    },
    {
      "cell_type": "markdown",
      "metadata": {
        "id": "af6hBYW8nLSQ"
      },
      "source": [
        "We hebben nu voor 5 epochs getrained op een trainingsset van 2000 voorbeelden.\n",
        "## Welke performance zou het netwerk wat we in sklearn gemaakt hebben hiermee behalen?"
      ]
    },
    {
      "cell_type": "markdown",
      "metadata": {
        "id": "Ei-HqkpXpPNr"
      },
      "source": [
        ""
      ]
    },
    {
      "cell_type": "markdown",
      "metadata": {
        "id": "vGQCWqQwpl8-"
      },
      "source": [
        "\n",
        "\n",
        "---\n",
        "\n",
        "\n",
        "\n",
        "---\n",
        "\n"
      ]
    },
    {
      "cell_type": "markdown",
      "metadata": {
        "id": "6vQJ58iOUJ22"
      },
      "source": [
        "Dit is het einde van de opdrachten van week 2. Nu weer een paar leuke videos voor als je tijd over hebt :) Deze videos gaan allemaal over reinforcement learning, waar een 'agent' in een 'environment' een bepaalde taak probeerd te optimaliseren."
      ]
    },
    {
      "cell_type": "code",
      "metadata": {
        "id": "AM2friHtUiiY"
      },
      "source": [
        "from IPython.display import HTML\n",
        "\n",
        "def youtube_video(code):\n",
        "    return HTML(f\"<iframe width='1280' height='720'  src='https://www.youtube.com/embed/{code}' frameborder='0' allowfullscreen></iframe>\")\n"
      ],
      "execution_count": null,
      "outputs": []
    },
    {
      "cell_type": "code",
      "metadata": {
        "id": "0PCfCQPcUkbd"
      },
      "source": [
        "youtube_video('Lu56xVlZ40M')"
      ],
      "execution_count": null,
      "outputs": []
    },
    {
      "cell_type": "code",
      "metadata": {
        "id": "k9eQ3PH_Ukq8"
      },
      "source": [
        "youtube_video('tfb6aEUMC04')"
      ],
      "execution_count": null,
      "outputs": []
    },
    {
      "cell_type": "code",
      "metadata": {
        "id": "RgHIqQa7Uq4_"
      },
      "source": [
        "youtube_video('Tnu4O_xEmVk')"
      ],
      "execution_count": null,
      "outputs": []
    },
    {
      "cell_type": "code",
      "metadata": {
        "id": "R0etyV2eVFB-"
      },
      "source": [
        ""
      ],
      "execution_count": null,
      "outputs": []
    },
    {
      "cell_type": "markdown",
      "metadata": {
        "id": "4xdhjDSfmayD"
      },
      "source": [
        "Als je zelf iets wil doen met een zelfrijdende auto, dan is het misschien interessant om [dit](https://github.com/Niels-van-den-Hork/Self-driving-Car-Neural-Network) als basis te nemen. Hierin rij je zelf eerst een stukje om trainingsdata te genereren, daarna kan het netwerk jouw rijgedrag leren, en zelf beter rijden dan jij. (trainingsdata is al bijgevoegd)"
      ]
    },
    {
      "cell_type": "code",
      "metadata": {
        "id": "JqfitUekm7zk"
      },
      "source": [
        ""
      ],
      "execution_count": null,
      "outputs": []
    }
  ]
}